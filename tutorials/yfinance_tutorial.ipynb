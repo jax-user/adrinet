{
 "cells": [
  {
   "cell_type": "markdown",
   "id": "b66008c8",
   "metadata": {},
   "source": [
    "# yfinance tutorial\n",
    "- use primarily for price data\n",
    "\n",
    "## Documentation\n",
    "For more detail documentation visit:\n",
    "[here](https://pypi.org/project/yfinance/)\n",
    "## Installation\n",
    "```pip install yfinance```\n",
    "\n",
    "## Import"
   ]
  },
  {
   "cell_type": "code",
   "execution_count": 1,
   "id": "d75a6cca",
   "metadata": {},
   "outputs": [],
   "source": [
    "import yfinance as yf"
   ]
  },
  {
   "cell_type": "markdown",
   "id": "0e09e0c0",
   "metadata": {},
   "source": [
    "## Select financial instrument\n",
    "- must be an instrument with a listed ticker\n",
    "\n",
    "We will use example ```aapl``` because of course"
   ]
  },
  {
   "cell_type": "code",
   "execution_count": 2,
   "id": "276800e4",
   "metadata": {},
   "outputs": [],
   "source": [
    "aapl = yf.Ticker(\"MSFT\")"
   ]
  },
  {
   "cell_type": "markdown",
   "id": "cffbac36",
   "metadata": {},
   "source": [
    "## Getting historical data\n",
    "use ```history()``` function\n",
    "\n",
    "Parameters:\n",
    "```history: (period=\"1mo\", interval=\"1d\", start=None, end=None, prepost=False, actions=True, auto_adjust=True, back_adjust=False, proxy=None, rounding=False, tz=None, **kwargs)```"
   ]
  },
  {
   "cell_type": "code",
   "execution_count": 4,
   "id": "0ae00a9a",
   "metadata": {},
   "outputs": [],
   "source": [
    "aapl_data = aapl.history(period=\"max\")"
   ]
  },
  {
   "cell_type": "code",
   "execution_count": 6,
   "id": "7f433d55",
   "metadata": {},
   "outputs": [
    {
     "data": {
      "text/html": [
       "<div>\n",
       "<style scoped>\n",
       "    .dataframe tbody tr th:only-of-type {\n",
       "        vertical-align: middle;\n",
       "    }\n",
       "\n",
       "    .dataframe tbody tr th {\n",
       "        vertical-align: top;\n",
       "    }\n",
       "\n",
       "    .dataframe thead th {\n",
       "        text-align: right;\n",
       "    }\n",
       "</style>\n",
       "<table border=\"1\" class=\"dataframe\">\n",
       "  <thead>\n",
       "    <tr style=\"text-align: right;\">\n",
       "      <th></th>\n",
       "      <th>Open</th>\n",
       "      <th>High</th>\n",
       "      <th>Low</th>\n",
       "      <th>Close</th>\n",
       "      <th>Volume</th>\n",
       "      <th>Dividends</th>\n",
       "      <th>Stock Splits</th>\n",
       "    </tr>\n",
       "    <tr>\n",
       "      <th>Date</th>\n",
       "      <th></th>\n",
       "      <th></th>\n",
       "      <th></th>\n",
       "      <th></th>\n",
       "      <th></th>\n",
       "      <th></th>\n",
       "      <th></th>\n",
       "    </tr>\n",
       "  </thead>\n",
       "  <tbody>\n",
       "    <tr>\n",
       "      <th>1986-03-13</th>\n",
       "      <td>0.056001</td>\n",
       "      <td>0.064236</td>\n",
       "      <td>0.056001</td>\n",
       "      <td>0.061491</td>\n",
       "      <td>1031788800</td>\n",
       "      <td>0.0</td>\n",
       "      <td>0.0</td>\n",
       "    </tr>\n",
       "    <tr>\n",
       "      <th>1986-03-14</th>\n",
       "      <td>0.061491</td>\n",
       "      <td>0.064785</td>\n",
       "      <td>0.061491</td>\n",
       "      <td>0.063687</td>\n",
       "      <td>308160000</td>\n",
       "      <td>0.0</td>\n",
       "      <td>0.0</td>\n",
       "    </tr>\n",
       "    <tr>\n",
       "      <th>1986-03-17</th>\n",
       "      <td>0.063687</td>\n",
       "      <td>0.065334</td>\n",
       "      <td>0.063687</td>\n",
       "      <td>0.064785</td>\n",
       "      <td>133171200</td>\n",
       "      <td>0.0</td>\n",
       "      <td>0.0</td>\n",
       "    </tr>\n",
       "    <tr>\n",
       "      <th>1986-03-18</th>\n",
       "      <td>0.064785</td>\n",
       "      <td>0.065334</td>\n",
       "      <td>0.062589</td>\n",
       "      <td>0.063138</td>\n",
       "      <td>67766400</td>\n",
       "      <td>0.0</td>\n",
       "      <td>0.0</td>\n",
       "    </tr>\n",
       "    <tr>\n",
       "      <th>1986-03-19</th>\n",
       "      <td>0.063138</td>\n",
       "      <td>0.063687</td>\n",
       "      <td>0.061491</td>\n",
       "      <td>0.062040</td>\n",
       "      <td>47894400</td>\n",
       "      <td>0.0</td>\n",
       "      <td>0.0</td>\n",
       "    </tr>\n",
       "  </tbody>\n",
       "</table>\n",
       "</div>"
      ],
      "text/plain": [
       "                Open      High       Low     Close      Volume  Dividends  \\\n",
       "Date                                                                        \n",
       "1986-03-13  0.056001  0.064236  0.056001  0.061491  1031788800        0.0   \n",
       "1986-03-14  0.061491  0.064785  0.061491  0.063687   308160000        0.0   \n",
       "1986-03-17  0.063687  0.065334  0.063687  0.064785   133171200        0.0   \n",
       "1986-03-18  0.064785  0.065334  0.062589  0.063138    67766400        0.0   \n",
       "1986-03-19  0.063138  0.063687  0.061491  0.062040    47894400        0.0   \n",
       "\n",
       "            Stock Splits  \n",
       "Date                      \n",
       "1986-03-13           0.0  \n",
       "1986-03-14           0.0  \n",
       "1986-03-17           0.0  \n",
       "1986-03-18           0.0  \n",
       "1986-03-19           0.0  "
      ]
     },
     "execution_count": 6,
     "metadata": {},
     "output_type": "execute_result"
    }
   ],
   "source": [
    "aapl_data.tail()"
   ]
  },
  {
   "cell_type": "code",
   "execution_count": 7,
   "id": "41edb2f4",
   "metadata": {},
   "outputs": [
    {
     "data": {
      "text/plain": [
       "(8988, 7)"
      ]
     },
     "execution_count": 7,
     "metadata": {},
     "output_type": "execute_result"
    }
   ],
   "source": [
    "aapl_data.shape"
   ]
  },
  {
   "cell_type": "code",
   "execution_count": null,
   "id": "1bdc00c5",
   "metadata": {},
   "outputs": [],
   "source": []
  }
 ],
 "metadata": {
  "kernelspec": {
   "display_name": "adrinet_venv",
   "language": "python",
   "name": "adrinet_venv"
  },
  "language_info": {
   "codemirror_mode": {
    "name": "ipython",
    "version": 3
   },
   "file_extension": ".py",
   "mimetype": "text/x-python",
   "name": "python",
   "nbconvert_exporter": "python",
   "pygments_lexer": "ipython3",
   "version": "3.9.5"
  }
 },
 "nbformat": 4,
 "nbformat_minor": 5
}
