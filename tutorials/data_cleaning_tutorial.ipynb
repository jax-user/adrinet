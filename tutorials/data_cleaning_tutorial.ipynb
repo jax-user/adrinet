{
 "cells": [
  {
   "cell_type": "markdown",
   "metadata": {},
   "source": [
    "## 1. Relevant imports\n",
    "\n"
   ]
  },
  {
   "cell_type": "code",
   "execution_count": 16,
   "metadata": {},
   "outputs": [],
   "source": [
    "import yfinance as yf\n",
    "import pandas as pd\n",
    "import numpy as np\n",
    "from sklearn import preprocessing"
   ]
  },
  {
   "cell_type": "markdown",
   "metadata": {},
   "source": [
    "## 2. Getting the data"
   ]
  },
  {
   "cell_type": "code",
   "execution_count": 17,
   "metadata": {},
   "outputs": [],
   "source": [
    "vix = yf.Ticker(\"^vix\") #instanciate vix data\n",
    "\n",
    "historical_price_data = vix.history(period=\"max\") # getting all historical data, this will return a dataframe object"
   ]
  },
  {
   "cell_type": "markdown",
   "metadata": {},
   "source": [
    "#### Let's have a look at the raw data that we found"
   ]
  },
  {
   "cell_type": "code",
   "execution_count": 18,
   "metadata": {},
   "outputs": [
    {
     "name": "stdout",
     "output_type": "stream",
     "text": [
      "                 Open       High        Low      Close  Volume  Dividends  \\\n",
      "Date                                                                        \n",
      "1990-01-02  17.240000  17.240000  17.240000  17.240000       0          0   \n",
      "1990-01-03  18.190001  18.190001  18.190001  18.190001       0          0   \n",
      "1990-01-04  19.219999  19.219999  19.219999  19.219999       0          0   \n",
      "1990-01-05  20.110001  20.110001  20.110001  20.110001       0          0   \n",
      "1990-01-08  20.260000  20.260000  20.260000  20.260000       0          0   \n",
      "...               ...        ...        ...        ...     ...        ...   \n",
      "2021-11-23  20.240000  20.910000  19.030001  19.379999       0          0   \n",
      "2021-11-24  19.170000  20.959999  18.520000  18.580000       0          0   \n",
      "2021-11-26  26.620001  28.990000  23.879999  28.620001       0          0   \n",
      "2021-11-29  25.309999  25.690001  21.709999  22.959999       0          0   \n",
      "2021-11-30  26.230000  28.559999  23.709999  27.190001       0          0   \n",
      "\n",
      "            Stock Splits  \n",
      "Date                      \n",
      "1990-01-02             0  \n",
      "1990-01-03             0  \n",
      "1990-01-04             0  \n",
      "1990-01-05             0  \n",
      "1990-01-08             0  \n",
      "...                  ...  \n",
      "2021-11-23             0  \n",
      "2021-11-24             0  \n",
      "2021-11-26             0  \n",
      "2021-11-29             0  \n",
      "2021-11-30             0  \n",
      "\n",
      "[8042 rows x 7 columns]\n"
     ]
    }
   ],
   "source": [
    "print(historical_price_data)"
   ]
  },
  {
   "cell_type": "markdown",
   "metadata": {},
   "source": [
    "## 3. Deal with missing data\n",
    "- we see that the \"Volume\", \"Dividends\" and \"Stock Splits\" columns are empty. Why?\n",
    "- Either fill in missing data if possible or just don't use it\n",
    "\n",
    "#### We proceed to discard the empty columns"
   ]
  },
  {
   "cell_type": "code",
   "execution_count": 19,
   "metadata": {},
   "outputs": [],
   "source": [
    "historical_price_data_cleaned = historical_price_data.drop([\"Volume\", \"Dividends\", \"Stock Splits\"], axis = 1)"
   ]
  },
  {
   "cell_type": "markdown",
   "metadata": {},
   "source": [
    "#### OR"
   ]
  },
  {
   "cell_type": "code",
   "execution_count": 20,
   "metadata": {},
   "outputs": [],
   "source": [
    "# historical_price_data.drop([\"Volume\", \"Dividends\", \"Stock Splits\"], axis = 1, inplace = True)"
   ]
  },
  {
   "cell_type": "markdown",
   "metadata": {},
   "source": [
    "#### Lets check out our data now"
   ]
  },
  {
   "cell_type": "code",
   "execution_count": 21,
   "metadata": {},
   "outputs": [
    {
     "name": "stdout",
     "output_type": "stream",
     "text": [
      "                 Open       High        Low      Close\n",
      "Date                                                  \n",
      "1990-01-02  17.240000  17.240000  17.240000  17.240000\n",
      "1990-01-03  18.190001  18.190001  18.190001  18.190001\n",
      "1990-01-04  19.219999  19.219999  19.219999  19.219999\n",
      "1990-01-05  20.110001  20.110001  20.110001  20.110001\n",
      "1990-01-08  20.260000  20.260000  20.260000  20.260000\n",
      "...               ...        ...        ...        ...\n",
      "2021-11-23  20.240000  20.910000  19.030001  19.379999\n",
      "2021-11-24  19.170000  20.959999  18.520000  18.580000\n",
      "2021-11-26  26.620001  28.990000  23.879999  28.620001\n",
      "2021-11-29  25.309999  25.690001  21.709999  22.959999\n",
      "2021-11-30  26.230000  28.559999  23.709999  27.190001\n",
      "\n",
      "[8042 rows x 4 columns]\n"
     ]
    }
   ],
   "source": [
    "print(historical_price_data_cleaned)"
   ]
  },
  {
   "cell_type": "markdown",
   "metadata": {},
   "source": [
    "## 4. Nominal Values? Depends. In most cases, no\n",
    "#### Lets now change the nominal values to a percentage change value between each day (daily is not a requirement, we could also have a rolling average of the last $x$ trading sessions)"
   ]
  },
  {
   "cell_type": "code",
   "execution_count": 22,
   "metadata": {},
   "outputs": [],
   "source": [
    "historical_price_data_cleaned_pct_change = historical_price_data_cleaned.pct_change()\n",
    "\n",
    "historical_price_data_cleaned_pct_change = historical_price_data_cleaned_pct_change[1:] # chops off the first NaN value"
   ]
  },
  {
   "cell_type": "markdown",
   "metadata": {},
   "source": [
    "#### Lets look at out data again"
   ]
  },
  {
   "cell_type": "code",
   "execution_count": 23,
   "metadata": {},
   "outputs": [
    {
     "name": "stdout",
     "output_type": "stream",
     "text": [
      "                Open      High       Low     Close\n",
      "Date                                              \n",
      "1990-01-03  0.055104  0.055104  0.055104  0.055104\n",
      "1990-01-04  0.056624  0.056624  0.056624  0.056624\n",
      "1990-01-05  0.046306  0.046306  0.046306  0.046306\n",
      "1990-01-08  0.007459  0.007459  0.007459  0.007459\n",
      "1990-01-09  0.095755  0.095755  0.095755  0.095755\n",
      "...              ...       ...       ...       ...\n",
      "2021-11-23  0.112088  0.067381  0.096830  0.010955\n",
      "2021-11-24 -0.052866  0.002391 -0.026800 -0.041280\n",
      "2021-11-26  0.388628  0.383111  0.289417  0.540366\n",
      "2021-11-29 -0.049211 -0.113832 -0.090871 -0.197764\n",
      "2021-11-30  0.036349  0.111717  0.092123  0.184234\n",
      "\n",
      "[8041 rows x 4 columns]\n"
     ]
    }
   ],
   "source": [
    "print(historical_price_data_cleaned_pct_change)"
   ]
  },
  {
   "cell_type": "markdown",
   "metadata": {},
   "source": [
    "#### Lets take a peek at the summary statistics of our data"
   ]
  },
  {
   "cell_type": "code",
   "execution_count": 24,
   "metadata": {},
   "outputs": [
    {
     "data": {
      "text/html": [
       "<div>\n",
       "<style scoped>\n",
       "    .dataframe tbody tr th:only-of-type {\n",
       "        vertical-align: middle;\n",
       "    }\n",
       "\n",
       "    .dataframe tbody tr th {\n",
       "        vertical-align: top;\n",
       "    }\n",
       "\n",
       "    .dataframe thead th {\n",
       "        text-align: right;\n",
       "    }\n",
       "</style>\n",
       "<table border=\"1\" class=\"dataframe\">\n",
       "  <thead>\n",
       "    <tr style=\"text-align: right;\">\n",
       "      <th></th>\n",
       "      <th>Open</th>\n",
       "      <th>High</th>\n",
       "      <th>Low</th>\n",
       "      <th>Close</th>\n",
       "    </tr>\n",
       "  </thead>\n",
       "  <tbody>\n",
       "    <tr>\n",
       "      <th>count</th>\n",
       "      <td>8041.000000</td>\n",
       "      <td>8041.000000</td>\n",
       "      <td>8041.000000</td>\n",
       "      <td>8041.000000</td>\n",
       "    </tr>\n",
       "    <tr>\n",
       "      <th>mean</th>\n",
       "      <td>0.002527</td>\n",
       "      <td>0.002436</td>\n",
       "      <td>0.001848</td>\n",
       "      <td>0.002370</td>\n",
       "    </tr>\n",
       "    <tr>\n",
       "      <th>std</th>\n",
       "      <td>0.072105</td>\n",
       "      <td>0.071073</td>\n",
       "      <td>0.061013</td>\n",
       "      <td>0.070248</td>\n",
       "    </tr>\n",
       "    <tr>\n",
       "      <th>min</th>\n",
       "      <td>-0.358284</td>\n",
       "      <td>-0.370974</td>\n",
       "      <td>-0.400595</td>\n",
       "      <td>-0.295727</td>\n",
       "    </tr>\n",
       "    <tr>\n",
       "      <th>25%</th>\n",
       "      <td>-0.039051</td>\n",
       "      <td>-0.036530</td>\n",
       "      <td>-0.033166</td>\n",
       "      <td>-0.036927</td>\n",
       "    </tr>\n",
       "    <tr>\n",
       "      <th>50%</th>\n",
       "      <td>-0.002738</td>\n",
       "      <td>-0.002682</td>\n",
       "      <td>-0.003086</td>\n",
       "      <td>-0.003623</td>\n",
       "    </tr>\n",
       "    <tr>\n",
       "      <th>75%</th>\n",
       "      <td>0.036082</td>\n",
       "      <td>0.033333</td>\n",
       "      <td>0.032042</td>\n",
       "      <td>0.032787</td>\n",
       "    </tr>\n",
       "    <tr>\n",
       "      <th>max</th>\n",
       "      <td>1.023861</td>\n",
       "      <td>1.172452</td>\n",
       "      <td>0.601269</td>\n",
       "      <td>1.155979</td>\n",
       "    </tr>\n",
       "  </tbody>\n",
       "</table>\n",
       "</div>"
      ],
      "text/plain": [
       "              Open         High          Low        Close\n",
       "count  8041.000000  8041.000000  8041.000000  8041.000000\n",
       "mean      0.002527     0.002436     0.001848     0.002370\n",
       "std       0.072105     0.071073     0.061013     0.070248\n",
       "min      -0.358284    -0.370974    -0.400595    -0.295727\n",
       "25%      -0.039051    -0.036530    -0.033166    -0.036927\n",
       "50%      -0.002738    -0.002682    -0.003086    -0.003623\n",
       "75%       0.036082     0.033333     0.032042     0.032787\n",
       "max       1.023861     1.172452     0.601269     1.155979"
      ]
     },
     "execution_count": 24,
     "metadata": {},
     "output_type": "execute_result"
    }
   ],
   "source": [
    "historical_price_data_cleaned_pct_change.describe()"
   ]
  },
  {
   "cell_type": "markdown",
   "metadata": {},
   "source": [
    "## 5. Make Input data small values. They work better. i.e. 0 - 1 or -1 - 1\n",
    "- standardize data\n",
    "- normalize data"
   ]
  },
  {
   "cell_type": "markdown",
   "metadata": {},
   "source": [
    "#### Iterate over the columns of data in our dataframe and normalise the data"
   ]
  },
  {
   "cell_type": "code",
   "execution_count": 25,
   "metadata": {},
   "outputs": [],
   "source": [
    "for column in historical_price_data_cleaned_pct_change:\n",
    "\n",
    "    mean = np.mean(historical_price_data_cleaned_pct_change[column])\n",
    "    std = np.std(historical_price_data_cleaned_pct_change[column])\n",
    "    historical_price_data_cleaned_pct_change[column] = (historical_price_data_cleaned_pct_change[column] - mean)/std # vectorised operation to standardise all columns"
   ]
  },
  {
   "cell_type": "code",
   "execution_count": 26,
   "metadata": {},
   "outputs": [
    {
     "data": {
      "text/html": [
       "<div>\n",
       "<style scoped>\n",
       "    .dataframe tbody tr th:only-of-type {\n",
       "        vertical-align: middle;\n",
       "    }\n",
       "\n",
       "    .dataframe tbody tr th {\n",
       "        vertical-align: top;\n",
       "    }\n",
       "\n",
       "    .dataframe thead th {\n",
       "        text-align: right;\n",
       "    }\n",
       "</style>\n",
       "<table border=\"1\" class=\"dataframe\">\n",
       "  <thead>\n",
       "    <tr style=\"text-align: right;\">\n",
       "      <th></th>\n",
       "      <th>Open</th>\n",
       "      <th>High</th>\n",
       "      <th>Low</th>\n",
       "      <th>Close</th>\n",
       "    </tr>\n",
       "    <tr>\n",
       "      <th>Date</th>\n",
       "      <th></th>\n",
       "      <th></th>\n",
       "      <th></th>\n",
       "      <th></th>\n",
       "    </tr>\n",
       "  </thead>\n",
       "  <tbody>\n",
       "    <tr>\n",
       "      <th>1990-01-03</th>\n",
       "      <td>0.729224</td>\n",
       "      <td>0.741096</td>\n",
       "      <td>0.872918</td>\n",
       "      <td>0.750738</td>\n",
       "    </tr>\n",
       "    <tr>\n",
       "      <th>1990-01-04</th>\n",
       "      <td>0.750306</td>\n",
       "      <td>0.762483</td>\n",
       "      <td>0.897832</td>\n",
       "      <td>0.772377</td>\n",
       "    </tr>\n",
       "    <tr>\n",
       "      <th>1990-01-05</th>\n",
       "      <td>0.607194</td>\n",
       "      <td>0.617294</td>\n",
       "      <td>0.728704</td>\n",
       "      <td>0.625482</td>\n",
       "    </tr>\n",
       "    <tr>\n",
       "      <th>1990-01-08</th>\n",
       "      <td>0.068403</td>\n",
       "      <td>0.070682</td>\n",
       "      <td>0.091967</td>\n",
       "      <td>0.072452</td>\n",
       "    </tr>\n",
       "    <tr>\n",
       "      <th>1990-01-09</th>\n",
       "      <td>1.293032</td>\n",
       "      <td>1.313088</td>\n",
       "      <td>1.539220</td>\n",
       "      <td>1.329446</td>\n",
       "    </tr>\n",
       "    <tr>\n",
       "      <th>...</th>\n",
       "      <td>...</td>\n",
       "      <td>...</td>\n",
       "      <td>...</td>\n",
       "      <td>...</td>\n",
       "    </tr>\n",
       "    <tr>\n",
       "      <th>2021-11-23</th>\n",
       "      <td>1.519559</td>\n",
       "      <td>0.913842</td>\n",
       "      <td>1.556836</td>\n",
       "      <td>0.122216</td>\n",
       "    </tr>\n",
       "    <tr>\n",
       "      <th>2021-11-24</th>\n",
       "      <td>-0.768272</td>\n",
       "      <td>-0.000627</td>\n",
       "      <td>-0.469565</td>\n",
       "      <td>-0.621396</td>\n",
       "    </tr>\n",
       "    <tr>\n",
       "      <th>2021-11-26</th>\n",
       "      <td>5.355049</td>\n",
       "      <td>5.356434</td>\n",
       "      <td>4.713503</td>\n",
       "      <td>7.658970</td>\n",
       "    </tr>\n",
       "    <tr>\n",
       "      <th>2021-11-29</th>\n",
       "      <td>-0.717587</td>\n",
       "      <td>-1.635994</td>\n",
       "      <td>-1.519748</td>\n",
       "      <td>-2.849120</td>\n",
       "    </tr>\n",
       "    <tr>\n",
       "      <th>2021-11-30</th>\n",
       "      <td>0.469098</td>\n",
       "      <td>1.537678</td>\n",
       "      <td>1.479692</td>\n",
       "      <td>2.589032</td>\n",
       "    </tr>\n",
       "  </tbody>\n",
       "</table>\n",
       "<p>8041 rows × 4 columns</p>\n",
       "</div>"
      ],
      "text/plain": [
       "                Open      High       Low     Close\n",
       "Date                                              \n",
       "1990-01-03  0.729224  0.741096  0.872918  0.750738\n",
       "1990-01-04  0.750306  0.762483  0.897832  0.772377\n",
       "1990-01-05  0.607194  0.617294  0.728704  0.625482\n",
       "1990-01-08  0.068403  0.070682  0.091967  0.072452\n",
       "1990-01-09  1.293032  1.313088  1.539220  1.329446\n",
       "...              ...       ...       ...       ...\n",
       "2021-11-23  1.519559  0.913842  1.556836  0.122216\n",
       "2021-11-24 -0.768272 -0.000627 -0.469565 -0.621396\n",
       "2021-11-26  5.355049  5.356434  4.713503  7.658970\n",
       "2021-11-29 -0.717587 -1.635994 -1.519748 -2.849120\n",
       "2021-11-30  0.469098  1.537678  1.479692  2.589032\n",
       "\n",
       "[8041 rows x 4 columns]"
      ]
     },
     "execution_count": 26,
     "metadata": {},
     "output_type": "execute_result"
    }
   ],
   "source": [
    "historical_price_data_cleaned_pct_change"
   ]
  },
  {
   "cell_type": "code",
   "execution_count": 27,
   "metadata": {},
   "outputs": [
    {
     "data": {
      "text/html": [
       "<div>\n",
       "<style scoped>\n",
       "    .dataframe tbody tr th:only-of-type {\n",
       "        vertical-align: middle;\n",
       "    }\n",
       "\n",
       "    .dataframe tbody tr th {\n",
       "        vertical-align: top;\n",
       "    }\n",
       "\n",
       "    .dataframe thead th {\n",
       "        text-align: right;\n",
       "    }\n",
       "</style>\n",
       "<table border=\"1\" class=\"dataframe\">\n",
       "  <thead>\n",
       "    <tr style=\"text-align: right;\">\n",
       "      <th></th>\n",
       "      <th>Open</th>\n",
       "      <th>High</th>\n",
       "      <th>Low</th>\n",
       "      <th>Close</th>\n",
       "    </tr>\n",
       "  </thead>\n",
       "  <tbody>\n",
       "    <tr>\n",
       "      <th>count</th>\n",
       "      <td>8.041000e+03</td>\n",
       "      <td>8.041000e+03</td>\n",
       "      <td>8.041000e+03</td>\n",
       "      <td>8.041000e+03</td>\n",
       "    </tr>\n",
       "    <tr>\n",
       "      <th>mean</th>\n",
       "      <td>-1.060380e-17</td>\n",
       "      <td>1.413840e-17</td>\n",
       "      <td>-1.546387e-17</td>\n",
       "      <td>-5.301898e-18</td>\n",
       "    </tr>\n",
       "    <tr>\n",
       "      <th>std</th>\n",
       "      <td>1.000062e+00</td>\n",
       "      <td>1.000062e+00</td>\n",
       "      <td>1.000062e+00</td>\n",
       "      <td>1.000062e+00</td>\n",
       "    </tr>\n",
       "    <tr>\n",
       "      <th>min</th>\n",
       "      <td>-5.004291e+00</td>\n",
       "      <td>-5.254207e+00</td>\n",
       "      <td>-6.596403e+00</td>\n",
       "      <td>-4.243726e+00</td>\n",
       "    </tr>\n",
       "    <tr>\n",
       "      <th>25%</th>\n",
       "      <td>-5.766636e-01</td>\n",
       "      <td>-5.482770e-01</td>\n",
       "      <td>-5.739195e-01</td>\n",
       "      <td>-5.594304e-01</td>\n",
       "    </tr>\n",
       "    <tr>\n",
       "      <th>50%</th>\n",
       "      <td>-7.302347e-02</td>\n",
       "      <td>-7.201580e-02</td>\n",
       "      <td>-8.088144e-02</td>\n",
       "      <td>-8.531467e-02</td>\n",
       "    </tr>\n",
       "    <tr>\n",
       "      <th>75%</th>\n",
       "      <td>4.653978e-01</td>\n",
       "      <td>4.347568e-01</td>\n",
       "      <td>4.949057e-01</td>\n",
       "      <td>4.330235e-01</td>\n",
       "    </tr>\n",
       "    <tr>\n",
       "      <th>max</th>\n",
       "      <td>1.416545e+01</td>\n",
       "      <td>1.646317e+01</td>\n",
       "      <td>9.825039e+00</td>\n",
       "      <td>1.642290e+01</td>\n",
       "    </tr>\n",
       "  </tbody>\n",
       "</table>\n",
       "</div>"
      ],
      "text/plain": [
       "               Open          High           Low         Close\n",
       "count  8.041000e+03  8.041000e+03  8.041000e+03  8.041000e+03\n",
       "mean  -1.060380e-17  1.413840e-17 -1.546387e-17 -5.301898e-18\n",
       "std    1.000062e+00  1.000062e+00  1.000062e+00  1.000062e+00\n",
       "min   -5.004291e+00 -5.254207e+00 -6.596403e+00 -4.243726e+00\n",
       "25%   -5.766636e-01 -5.482770e-01 -5.739195e-01 -5.594304e-01\n",
       "50%   -7.302347e-02 -7.201580e-02 -8.088144e-02 -8.531467e-02\n",
       "75%    4.653978e-01  4.347568e-01  4.949057e-01  4.330235e-01\n",
       "max    1.416545e+01  1.646317e+01  9.825039e+00  1.642290e+01"
      ]
     },
     "execution_count": 27,
     "metadata": {},
     "output_type": "execute_result"
    }
   ],
   "source": [
    "historical_price_data_cleaned_pct_change.describe()"
   ]
  },
  {
   "cell_type": "markdown",
   "metadata": {},
   "source": [
    "#### We see that the extreme values are still really big. This may cause trouble in training We can now normalize our data so it is between 0 and 1"
   ]
  },
  {
   "cell_type": "code",
   "execution_count": 28,
   "metadata": {},
   "outputs": [],
   "source": [
    "scaler = preprocessing.MinMaxScaler() #Import the min max scalar tool\n",
    "\n",
    "historical_price_data_cleaned_pct_change_copy = historical_price_data_cleaned_pct_change # I made a copy for testing purposes. If I messed up I could go back\n",
    "\n",
    "# Pick the columns that we want to normalise. In our case, all.\n",
    "historical_price_data_cleaned_pct_change_copy[[\"Open\", \"High\", \"Low\", \"Close\"]] = scaler.fit_transform(historical_price_data_cleaned_pct_change_copy[[\"Open\", \"High\", \"Low\", \"Close\"]])"
   ]
  },
  {
   "cell_type": "markdown",
   "metadata": {},
   "source": [
    "#### Lets check out our data again"
   ]
  },
  {
   "cell_type": "code",
   "execution_count": 29,
   "metadata": {},
   "outputs": [
    {
     "data": {
      "text/html": [
       "<div>\n",
       "<style scoped>\n",
       "    .dataframe tbody tr th:only-of-type {\n",
       "        vertical-align: middle;\n",
       "    }\n",
       "\n",
       "    .dataframe tbody tr th {\n",
       "        vertical-align: top;\n",
       "    }\n",
       "\n",
       "    .dataframe thead th {\n",
       "        text-align: right;\n",
       "    }\n",
       "</style>\n",
       "<table border=\"1\" class=\"dataframe\">\n",
       "  <thead>\n",
       "    <tr style=\"text-align: right;\">\n",
       "      <th></th>\n",
       "      <th>Open</th>\n",
       "      <th>High</th>\n",
       "      <th>Low</th>\n",
       "      <th>Close</th>\n",
       "    </tr>\n",
       "    <tr>\n",
       "      <th>Date</th>\n",
       "      <th></th>\n",
       "      <th></th>\n",
       "      <th></th>\n",
       "      <th></th>\n",
       "    </tr>\n",
       "  </thead>\n",
       "  <tbody>\n",
       "    <tr>\n",
       "      <th>1990-01-03</th>\n",
       "      <td>0.299092</td>\n",
       "      <td>0.276060</td>\n",
       "      <td>0.454852</td>\n",
       "      <td>0.241668</td>\n",
       "    </tr>\n",
       "    <tr>\n",
       "      <th>1990-01-04</th>\n",
       "      <td>0.300192</td>\n",
       "      <td>0.277045</td>\n",
       "      <td>0.456369</td>\n",
       "      <td>0.242715</td>\n",
       "    </tr>\n",
       "    <tr>\n",
       "      <th>1990-01-05</th>\n",
       "      <td>0.292726</td>\n",
       "      <td>0.270360</td>\n",
       "      <td>0.446070</td>\n",
       "      <td>0.235607</td>\n",
       "    </tr>\n",
       "    <tr>\n",
       "      <th>1990-01-08</th>\n",
       "      <td>0.264620</td>\n",
       "      <td>0.245190</td>\n",
       "      <td>0.407295</td>\n",
       "      <td>0.208848</td>\n",
       "    </tr>\n",
       "    <tr>\n",
       "      <th>1990-01-09</th>\n",
       "      <td>0.328503</td>\n",
       "      <td>0.302398</td>\n",
       "      <td>0.495427</td>\n",
       "      <td>0.269670</td>\n",
       "    </tr>\n",
       "    <tr>\n",
       "      <th>...</th>\n",
       "      <td>...</td>\n",
       "      <td>...</td>\n",
       "      <td>...</td>\n",
       "      <td>...</td>\n",
       "    </tr>\n",
       "    <tr>\n",
       "      <th>2021-11-23</th>\n",
       "      <td>0.340320</td>\n",
       "      <td>0.284014</td>\n",
       "      <td>0.496500</td>\n",
       "      <td>0.211256</td>\n",
       "    </tr>\n",
       "    <tr>\n",
       "      <th>2021-11-24</th>\n",
       "      <td>0.220974</td>\n",
       "      <td>0.241907</td>\n",
       "      <td>0.373100</td>\n",
       "      <td>0.175274</td>\n",
       "    </tr>\n",
       "    <tr>\n",
       "      <th>2021-11-26</th>\n",
       "      <td>0.540401</td>\n",
       "      <td>0.488578</td>\n",
       "      <td>0.688728</td>\n",
       "      <td>0.575938</td>\n",
       "    </tr>\n",
       "    <tr>\n",
       "      <th>2021-11-29</th>\n",
       "      <td>0.223618</td>\n",
       "      <td>0.166605</td>\n",
       "      <td>0.309148</td>\n",
       "      <td>0.067481</td>\n",
       "    </tr>\n",
       "    <tr>\n",
       "      <th>2021-11-30</th>\n",
       "      <td>0.285522</td>\n",
       "      <td>0.312740</td>\n",
       "      <td>0.491802</td>\n",
       "      <td>0.330618</td>\n",
       "    </tr>\n",
       "  </tbody>\n",
       "</table>\n",
       "<p>8041 rows × 4 columns</p>\n",
       "</div>"
      ],
      "text/plain": [
       "                Open      High       Low     Close\n",
       "Date                                              \n",
       "1990-01-03  0.299092  0.276060  0.454852  0.241668\n",
       "1990-01-04  0.300192  0.277045  0.456369  0.242715\n",
       "1990-01-05  0.292726  0.270360  0.446070  0.235607\n",
       "1990-01-08  0.264620  0.245190  0.407295  0.208848\n",
       "1990-01-09  0.328503  0.302398  0.495427  0.269670\n",
       "...              ...       ...       ...       ...\n",
       "2021-11-23  0.340320  0.284014  0.496500  0.211256\n",
       "2021-11-24  0.220974  0.241907  0.373100  0.175274\n",
       "2021-11-26  0.540401  0.488578  0.688728  0.575938\n",
       "2021-11-29  0.223618  0.166605  0.309148  0.067481\n",
       "2021-11-30  0.285522  0.312740  0.491802  0.330618\n",
       "\n",
       "[8041 rows x 4 columns]"
      ]
     },
     "execution_count": 29,
     "metadata": {},
     "output_type": "execute_result"
    }
   ],
   "source": [
    "historical_price_data_cleaned_pct_change_copy"
   ]
  },
  {
   "cell_type": "code",
   "execution_count": 30,
   "metadata": {},
   "outputs": [],
   "source": [
    "historical_price_data_cleaned_pct_change_copy.describe()\n",
    "\n",
    "historical_price_data_cleaned_pct_change_copy.to_csv(\"/Users/andrewchen/Documents/GitHub/adrinet/data/cleaned/vix_cleaned_andrew.csv\")"
   ]
  },
  {
   "cell_type": "markdown",
   "metadata": {},
   "source": [
    "# DONE"
   ]
  },
  {
   "cell_type": "markdown",
   "metadata": {},
   "source": []
  }
 ],
 "metadata": {
  "interpreter": {
   "hash": "bf349265d63084cbdfa8b946a89e3278a059fd5fd900a5548870e74abe5aeae5"
  },
  "kernelspec": {
   "display_name": "Python 3.9.5 64-bit ('adrinet_venv': venv)",
   "language": "python",
   "name": "python3"
  },
  "language_info": {
   "codemirror_mode": {
    "name": "ipython",
    "version": 3
   },
   "file_extension": ".py",
   "mimetype": "text/x-python",
   "name": "python",
   "nbconvert_exporter": "python",
   "pygments_lexer": "ipython3",
   "version": "3.9.5"
  },
  "orig_nbformat": 4
 },
 "nbformat": 4,
 "nbformat_minor": 2
}
