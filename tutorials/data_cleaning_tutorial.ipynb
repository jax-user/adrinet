{
 "cells": [
  {
   "cell_type": "markdown",
   "metadata": {},
   "source": [
    "## 1. Relevant imports\n",
    "\n"
   ]
  },
  {
   "cell_type": "code",
   "execution_count": 1,
   "metadata": {},
   "outputs": [],
   "source": [
    "import yfinance as yf\n",
    "import pandas as pd\n",
    "import numpy as np\n",
    "from sklearn import preprocessing"
   ]
  },
  {
   "cell_type": "markdown",
   "metadata": {},
   "source": [
    "## 2. Getting the data"
   ]
  },
  {
   "cell_type": "code",
   "execution_count": 2,
   "metadata": {},
   "outputs": [],
   "source": [
    "vix = yf.Ticker(\"^vix\") #instanciate vix data\n",
    "\n",
    "historical_price_data = vix.history(period=\"max\") # getting all historical data, this will return a dataframe object"
   ]
  },
  {
   "cell_type": "markdown",
   "metadata": {},
   "source": [
    "#### Let's have a look at the raw data that we found"
   ]
  },
  {
   "cell_type": "code",
   "execution_count": 3,
   "metadata": {},
   "outputs": [
    {
     "name": "stdout",
     "output_type": "stream",
     "text": [
      "                 Open       High        Low      Close  Volume  Dividends  \\\n",
      "Date                                                                        \n",
      "1990-01-02  17.240000  17.240000  17.240000  17.240000       0          0   \n",
      "1990-01-03  18.190001  18.190001  18.190001  18.190001       0          0   \n",
      "1990-01-04  19.219999  19.219999  19.219999  19.219999       0          0   \n",
      "1990-01-05  20.110001  20.110001  20.110001  20.110001       0          0   \n",
      "1990-01-08  20.260000  20.260000  20.260000  20.260000       0          0   \n",
      "...               ...        ...        ...        ...     ...        ...   \n",
      "2021-11-16  16.860001  17.080000  16.030001  16.370001       0          0   \n",
      "2021-11-17  16.360001  17.190001  16.280001  17.110001       0          0   \n",
      "2021-11-18  16.809999  18.150000  16.379999  17.590000       0          0   \n",
      "2021-11-19  17.360001  19.010000  17.230000  17.910000       0          0   \n",
      "2021-11-22  18.200001  19.590000  17.350000  19.170000       0          0   \n",
      "\n",
      "            Stock Splits  \n",
      "Date                      \n",
      "1990-01-02             0  \n",
      "1990-01-03             0  \n",
      "1990-01-04             0  \n",
      "1990-01-05             0  \n",
      "1990-01-08             0  \n",
      "...                  ...  \n",
      "2021-11-16             0  \n",
      "2021-11-17             0  \n",
      "2021-11-18             0  \n",
      "2021-11-19             0  \n",
      "2021-11-22             0  \n",
      "\n",
      "[8037 rows x 7 columns]\n"
     ]
    }
   ],
   "source": [
    "print(historical_price_data)"
   ]
  },
  {
   "cell_type": "markdown",
   "metadata": {},
   "source": [
    "## 3. Deal with missing data\n",
    "- we see that the \"Volume\", \"Dividends\" and \"Stock Splits\" columns are empty. Why?\n",
    "- Either fill in missing data if possible or just don't use it\n",
    "\n",
    "#### We proceed to discard the empty columns"
   ]
  },
  {
   "cell_type": "code",
   "execution_count": 4,
   "metadata": {},
   "outputs": [],
   "source": [
    "historical_price_data_cleaned = historical_price_data.drop([\"Volume\", \"Dividends\", \"Stock Splits\"], axis = 1)"
   ]
  },
  {
   "cell_type": "markdown",
   "metadata": {},
   "source": [
    "#### OR"
   ]
  },
  {
   "cell_type": "code",
   "execution_count": 5,
   "metadata": {},
   "outputs": [],
   "source": [
    "# historical_price_data.drop([\"Volume\", \"Dividends\", \"Stock Splits\"], axis = 1, inplace = True)"
   ]
  },
  {
   "cell_type": "markdown",
   "metadata": {},
   "source": [
    "#### Lets check out our data now"
   ]
  },
  {
   "cell_type": "code",
   "execution_count": 6,
   "metadata": {},
   "outputs": [
    {
     "name": "stdout",
     "output_type": "stream",
     "text": [
      "                 Open       High        Low      Close\n",
      "Date                                                  \n",
      "1990-01-02  17.240000  17.240000  17.240000  17.240000\n",
      "1990-01-03  18.190001  18.190001  18.190001  18.190001\n",
      "1990-01-04  19.219999  19.219999  19.219999  19.219999\n",
      "1990-01-05  20.110001  20.110001  20.110001  20.110001\n",
      "1990-01-08  20.260000  20.260000  20.260000  20.260000\n",
      "...               ...        ...        ...        ...\n",
      "2021-11-16  16.860001  17.080000  16.030001  16.370001\n",
      "2021-11-17  16.360001  17.190001  16.280001  17.110001\n",
      "2021-11-18  16.809999  18.150000  16.379999  17.590000\n",
      "2021-11-19  17.360001  19.010000  17.230000  17.910000\n",
      "2021-11-22  18.200001  19.590000  17.350000  19.170000\n",
      "\n",
      "[8037 rows x 4 columns]\n"
     ]
    }
   ],
   "source": [
    "print(historical_price_data_cleaned)"
   ]
  },
  {
   "cell_type": "markdown",
   "metadata": {},
   "source": [
    "## 4. Nominal Values? Depends. In most cases, no\n",
    "#### Lets now change the nominal values to a percentage change value between each day (daily is not a requirement, we could also have a rolling average of the last $x$ trading sessions)"
   ]
  },
  {
   "cell_type": "code",
   "execution_count": 7,
   "metadata": {},
   "outputs": [],
   "source": [
    "historical_price_data_cleaned_pct_change = historical_price_data_cleaned.pct_change()\n",
    "\n",
    "historical_price_data_cleaned_pct_change = historical_price_data_cleaned_pct_change[1:] # chops off the first NaN value"
   ]
  },
  {
   "cell_type": "markdown",
   "metadata": {},
   "source": [
    "#### Lets look at out data again"
   ]
  },
  {
   "cell_type": "code",
   "execution_count": 8,
   "metadata": {},
   "outputs": [
    {
     "name": "stdout",
     "output_type": "stream",
     "text": [
      "                Open      High       Low     Close\n",
      "Date                                              \n",
      "1990-01-03  0.055104  0.055104  0.055104  0.055104\n",
      "1990-01-04  0.056624  0.056624  0.056624  0.056624\n",
      "1990-01-05  0.046306  0.046306  0.046306  0.046306\n",
      "1990-01-08  0.007459  0.007459  0.007459  0.007459\n",
      "1990-01-09  0.095755  0.095755  0.095755  0.095755\n",
      "...              ...       ...       ...       ...\n",
      "2021-11-16 -0.009982 -0.021764 -0.027896 -0.007277\n",
      "2021-11-17 -0.029656  0.006440  0.015596  0.045205\n",
      "2021-11-18  0.027506  0.055846  0.006142  0.028054\n",
      "2021-11-19  0.032719  0.047383  0.051893  0.018192\n",
      "2021-11-22  0.048387  0.030510  0.006965  0.070352\n",
      "\n",
      "[8036 rows x 4 columns]\n"
     ]
    }
   ],
   "source": [
    "print(historical_price_data_cleaned_pct_change)"
   ]
  },
  {
   "cell_type": "markdown",
   "metadata": {},
   "source": [
    "#### Lets take a peek at the summary statistics of our data"
   ]
  },
  {
   "cell_type": "code",
   "execution_count": 9,
   "metadata": {},
   "outputs": [
    {
     "data": {
      "text/html": [
       "<div>\n",
       "<style scoped>\n",
       "    .dataframe tbody tr th:only-of-type {\n",
       "        vertical-align: middle;\n",
       "    }\n",
       "\n",
       "    .dataframe tbody tr th {\n",
       "        vertical-align: top;\n",
       "    }\n",
       "\n",
       "    .dataframe thead th {\n",
       "        text-align: right;\n",
       "    }\n",
       "</style>\n",
       "<table border=\"1\" class=\"dataframe\">\n",
       "  <thead>\n",
       "    <tr style=\"text-align: right;\">\n",
       "      <th></th>\n",
       "      <th>Open</th>\n",
       "      <th>High</th>\n",
       "      <th>Low</th>\n",
       "      <th>Close</th>\n",
       "    </tr>\n",
       "  </thead>\n",
       "  <tbody>\n",
       "    <tr>\n",
       "      <th>count</th>\n",
       "      <td>8036.000000</td>\n",
       "      <td>8036.000000</td>\n",
       "      <td>8036.000000</td>\n",
       "      <td>8036.000000</td>\n",
       "    </tr>\n",
       "    <tr>\n",
       "      <th>mean</th>\n",
       "      <td>0.002475</td>\n",
       "      <td>0.002381</td>\n",
       "      <td>0.001804</td>\n",
       "      <td>0.002309</td>\n",
       "    </tr>\n",
       "    <tr>\n",
       "      <th>std</th>\n",
       "      <td>0.071982</td>\n",
       "      <td>0.070942</td>\n",
       "      <td>0.060921</td>\n",
       "      <td>0.069947</td>\n",
       "    </tr>\n",
       "    <tr>\n",
       "      <th>min</th>\n",
       "      <td>-0.358284</td>\n",
       "      <td>-0.370974</td>\n",
       "      <td>-0.400595</td>\n",
       "      <td>-0.295727</td>\n",
       "    </tr>\n",
       "    <tr>\n",
       "      <th>25%</th>\n",
       "      <td>-0.039045</td>\n",
       "      <td>-0.036530</td>\n",
       "      <td>-0.033168</td>\n",
       "      <td>-0.036927</td>\n",
       "    </tr>\n",
       "    <tr>\n",
       "      <th>50%</th>\n",
       "      <td>-0.002739</td>\n",
       "      <td>-0.002709</td>\n",
       "      <td>-0.003089</td>\n",
       "      <td>-0.003653</td>\n",
       "    </tr>\n",
       "    <tr>\n",
       "      <th>75%</th>\n",
       "      <td>0.036071</td>\n",
       "      <td>0.033297</td>\n",
       "      <td>0.032016</td>\n",
       "      <td>0.032757</td>\n",
       "    </tr>\n",
       "    <tr>\n",
       "      <th>max</th>\n",
       "      <td>1.023861</td>\n",
       "      <td>1.172452</td>\n",
       "      <td>0.601269</td>\n",
       "      <td>1.155979</td>\n",
       "    </tr>\n",
       "  </tbody>\n",
       "</table>\n",
       "</div>"
      ],
      "text/plain": [
       "              Open         High          Low        Close\n",
       "count  8036.000000  8036.000000  8036.000000  8036.000000\n",
       "mean      0.002475     0.002381     0.001804     0.002309\n",
       "std       0.071982     0.070942     0.060921     0.069947\n",
       "min      -0.358284    -0.370974    -0.400595    -0.295727\n",
       "25%      -0.039045    -0.036530    -0.033168    -0.036927\n",
       "50%      -0.002739    -0.002709    -0.003089    -0.003653\n",
       "75%       0.036071     0.033297     0.032016     0.032757\n",
       "max       1.023861     1.172452     0.601269     1.155979"
      ]
     },
     "execution_count": 9,
     "metadata": {},
     "output_type": "execute_result"
    }
   ],
   "source": [
    "historical_price_data_cleaned_pct_change.describe()"
   ]
  },
  {
   "cell_type": "markdown",
   "metadata": {},
   "source": [
    "## 5. Make Input data small values. They work better. i.e. 0 - 1 or -1 - 1\n",
    "- standardize data\n",
    "- normalize data"
   ]
  },
  {
   "cell_type": "markdown",
   "metadata": {},
   "source": [
    "#### Iterate over the columns of data in our dataframe and normalise the data"
   ]
  },
  {
   "cell_type": "code",
   "execution_count": 10,
   "metadata": {},
   "outputs": [],
   "source": [
    "for column in historical_price_data_cleaned_pct_change:\n",
    "\n",
    "    mean = np.mean(historical_price_data_cleaned_pct_change[column])\n",
    "    std = np.std(historical_price_data_cleaned_pct_change[column])\n",
    "    historical_price_data_cleaned_pct_change[column] = (historical_price_data_cleaned_pct_change[column] - mean)/std # vectorised operation to standardise all columns"
   ]
  },
  {
   "cell_type": "code",
   "execution_count": 11,
   "metadata": {},
   "outputs": [
    {
     "data": {
      "text/html": [
       "<div>\n",
       "<style scoped>\n",
       "    .dataframe tbody tr th:only-of-type {\n",
       "        vertical-align: middle;\n",
       "    }\n",
       "\n",
       "    .dataframe tbody tr th {\n",
       "        vertical-align: top;\n",
       "    }\n",
       "\n",
       "    .dataframe thead th {\n",
       "        text-align: right;\n",
       "    }\n",
       "</style>\n",
       "<table border=\"1\" class=\"dataframe\">\n",
       "  <thead>\n",
       "    <tr style=\"text-align: right;\">\n",
       "      <th></th>\n",
       "      <th>Open</th>\n",
       "      <th>High</th>\n",
       "      <th>Low</th>\n",
       "      <th>Close</th>\n",
       "    </tr>\n",
       "    <tr>\n",
       "      <th>Date</th>\n",
       "      <th></th>\n",
       "      <th></th>\n",
       "      <th></th>\n",
       "      <th></th>\n",
       "    </tr>\n",
       "  </thead>\n",
       "  <tbody>\n",
       "    <tr>\n",
       "      <th>1990-01-03</th>\n",
       "      <td>0.731197</td>\n",
       "      <td>0.743233</td>\n",
       "      <td>0.874962</td>\n",
       "      <td>0.754839</td>\n",
       "    </tr>\n",
       "    <tr>\n",
       "      <th>1990-01-04</th>\n",
       "      <td>0.752315</td>\n",
       "      <td>0.764660</td>\n",
       "      <td>0.899914</td>\n",
       "      <td>0.776571</td>\n",
       "    </tr>\n",
       "    <tr>\n",
       "      <th>1990-01-05</th>\n",
       "      <td>0.608959</td>\n",
       "      <td>0.619202</td>\n",
       "      <td>0.730529</td>\n",
       "      <td>0.629043</td>\n",
       "    </tr>\n",
       "    <tr>\n",
       "      <th>1990-01-08</th>\n",
       "      <td>0.069249</td>\n",
       "      <td>0.071581</td>\n",
       "      <td>0.092824</td>\n",
       "      <td>0.073627</td>\n",
       "    </tr>\n",
       "    <tr>\n",
       "      <th>1990-01-09</th>\n",
       "      <td>1.295966</td>\n",
       "      <td>1.316280</td>\n",
       "      <td>1.542276</td>\n",
       "      <td>1.336043</td>\n",
       "    </tr>\n",
       "    <tr>\n",
       "      <th>...</th>\n",
       "      <td>...</td>\n",
       "      <td>...</td>\n",
       "      <td>...</td>\n",
       "      <td>...</td>\n",
       "    </tr>\n",
       "    <tr>\n",
       "      <th>2021-11-16</th>\n",
       "      <td>-0.173067</td>\n",
       "      <td>-0.340370</td>\n",
       "      <td>-0.487549</td>\n",
       "      <td>-0.137062</td>\n",
       "    </tr>\n",
       "    <tr>\n",
       "      <th>2021-11-17</th>\n",
       "      <td>-0.446396</td>\n",
       "      <td>0.057222</td>\n",
       "      <td>0.226396</td>\n",
       "      <td>0.613296</td>\n",
       "    </tr>\n",
       "    <tr>\n",
       "      <th>2021-11-18</th>\n",
       "      <td>0.347767</td>\n",
       "      <td>0.753691</td>\n",
       "      <td>0.071212</td>\n",
       "      <td>0.368081</td>\n",
       "    </tr>\n",
       "    <tr>\n",
       "      <th>2021-11-19</th>\n",
       "      <td>0.420188</td>\n",
       "      <td>0.634384</td>\n",
       "      <td>0.822237</td>\n",
       "      <td>0.227084</td>\n",
       "    </tr>\n",
       "    <tr>\n",
       "      <th>2021-11-22</th>\n",
       "      <td>0.637872</td>\n",
       "      <td>0.396532</td>\n",
       "      <td>0.084710</td>\n",
       "      <td>0.972837</td>\n",
       "    </tr>\n",
       "  </tbody>\n",
       "</table>\n",
       "<p>8036 rows × 4 columns</p>\n",
       "</div>"
      ],
      "text/plain": [
       "                Open      High       Low     Close\n",
       "Date                                              \n",
       "1990-01-03  0.731197  0.743233  0.874962  0.754839\n",
       "1990-01-04  0.752315  0.764660  0.899914  0.776571\n",
       "1990-01-05  0.608959  0.619202  0.730529  0.629043\n",
       "1990-01-08  0.069249  0.071581  0.092824  0.073627\n",
       "1990-01-09  1.295966  1.316280  1.542276  1.336043\n",
       "...              ...       ...       ...       ...\n",
       "2021-11-16 -0.173067 -0.340370 -0.487549 -0.137062\n",
       "2021-11-17 -0.446396  0.057222  0.226396  0.613296\n",
       "2021-11-18  0.347767  0.753691  0.071212  0.368081\n",
       "2021-11-19  0.420188  0.634384  0.822237  0.227084\n",
       "2021-11-22  0.637872  0.396532  0.084710  0.972837\n",
       "\n",
       "[8036 rows x 4 columns]"
      ]
     },
     "execution_count": 11,
     "metadata": {},
     "output_type": "execute_result"
    }
   ],
   "source": [
    "historical_price_data_cleaned_pct_change"
   ]
  },
  {
   "cell_type": "code",
   "execution_count": 12,
   "metadata": {},
   "outputs": [
    {
     "data": {
      "text/html": [
       "<div>\n",
       "<style scoped>\n",
       "    .dataframe tbody tr th:only-of-type {\n",
       "        vertical-align: middle;\n",
       "    }\n",
       "\n",
       "    .dataframe tbody tr th {\n",
       "        vertical-align: top;\n",
       "    }\n",
       "\n",
       "    .dataframe thead th {\n",
       "        text-align: right;\n",
       "    }\n",
       "</style>\n",
       "<table border=\"1\" class=\"dataframe\">\n",
       "  <thead>\n",
       "    <tr style=\"text-align: right;\">\n",
       "      <th></th>\n",
       "      <th>Open</th>\n",
       "      <th>High</th>\n",
       "      <th>Low</th>\n",
       "      <th>Close</th>\n",
       "    </tr>\n",
       "  </thead>\n",
       "  <tbody>\n",
       "    <tr>\n",
       "      <th>count</th>\n",
       "      <td>8036.000000</td>\n",
       "      <td>8.036000e+03</td>\n",
       "      <td>8.036000e+03</td>\n",
       "      <td>8.036000e+03</td>\n",
       "    </tr>\n",
       "    <tr>\n",
       "      <th>mean</th>\n",
       "      <td>0.000000</td>\n",
       "      <td>-1.149459e-17</td>\n",
       "      <td>7.957796e-18</td>\n",
       "      <td>9.726195e-18</td>\n",
       "    </tr>\n",
       "    <tr>\n",
       "      <th>std</th>\n",
       "      <td>1.000062</td>\n",
       "      <td>1.000062e+00</td>\n",
       "      <td>1.000062e+00</td>\n",
       "      <td>1.000062e+00</td>\n",
       "    </tr>\n",
       "    <tr>\n",
       "      <th>min</th>\n",
       "      <td>-5.012087</td>\n",
       "      <td>-5.263132e+00</td>\n",
       "      <td>-6.605708e+00</td>\n",
       "      <td>-4.261171e+00</td>\n",
       "    </tr>\n",
       "    <tr>\n",
       "      <th>25%</th>\n",
       "      <td>-0.576846</td>\n",
       "      <td>-5.485195e-01</td>\n",
       "      <td>-5.741006e-01</td>\n",
       "      <td>-5.609797e-01</td>\n",
       "    </tr>\n",
       "    <tr>\n",
       "      <th>50%</th>\n",
       "      <td>-0.072430</td>\n",
       "      <td>-7.174916e-02</td>\n",
       "      <td>-8.033302e-02</td>\n",
       "      <td>-8.524439e-02</td>\n",
       "    </tr>\n",
       "    <tr>\n",
       "      <th>75%</th>\n",
       "      <td>0.466765</td>\n",
       "      <td>4.358103e-01</td>\n",
       "      <td>4.959436e-01</td>\n",
       "      <td>4.353319e-01</td>\n",
       "    </tr>\n",
       "    <tr>\n",
       "      <th>max</th>\n",
       "      <td>14.190315</td>\n",
       "      <td>1.649431e+01</td>\n",
       "      <td>9.840685e+00</td>\n",
       "      <td>1.649461e+01</td>\n",
       "    </tr>\n",
       "  </tbody>\n",
       "</table>\n",
       "</div>"
      ],
      "text/plain": [
       "              Open          High           Low         Close\n",
       "count  8036.000000  8.036000e+03  8.036000e+03  8.036000e+03\n",
       "mean      0.000000 -1.149459e-17  7.957796e-18  9.726195e-18\n",
       "std       1.000062  1.000062e+00  1.000062e+00  1.000062e+00\n",
       "min      -5.012087 -5.263132e+00 -6.605708e+00 -4.261171e+00\n",
       "25%      -0.576846 -5.485195e-01 -5.741006e-01 -5.609797e-01\n",
       "50%      -0.072430 -7.174916e-02 -8.033302e-02 -8.524439e-02\n",
       "75%       0.466765  4.358103e-01  4.959436e-01  4.353319e-01\n",
       "max      14.190315  1.649431e+01  9.840685e+00  1.649461e+01"
      ]
     },
     "execution_count": 12,
     "metadata": {},
     "output_type": "execute_result"
    }
   ],
   "source": [
    "historical_price_data_cleaned_pct_change.describe()"
   ]
  },
  {
   "cell_type": "markdown",
   "metadata": {},
   "source": [
    "#### We see that the extreme values are still really big. This may cause trouble in training We can now normalize our data so it is between 0 and 1"
   ]
  },
  {
   "cell_type": "code",
   "execution_count": 15,
   "metadata": {},
   "outputs": [],
   "source": [
    "scaler = preprocessing.MinMaxScaler() #Import the min max scalar tool\n",
    "\n",
    "historical_price_data_cleaned_pct_change_copy = historical_price_data_cleaned_pct_change # I made a copy for testing purposes. If I messed up I could go back\n",
    "\n",
    "# Pick the columns that we want to normalise. In our case, all.\n",
    "historical_price_data_cleaned_pct_change_copy[[\"Open\", \"High\", \"Low\", \"Close\"]] = scaler.fit_transform(historical_price_data_cleaned_pct_change_copy[[\"Open\", \"High\", \"Low\", \"Close\"]])"
   ]
  },
  {
   "cell_type": "markdown",
   "metadata": {},
   "source": [
    "#### Lets check out our data again"
   ]
  },
  {
   "cell_type": "code",
   "execution_count": 16,
   "metadata": {},
   "outputs": [
    {
     "data": {
      "text/html": [
       "<div>\n",
       "<style scoped>\n",
       "    .dataframe tbody tr th:only-of-type {\n",
       "        vertical-align: middle;\n",
       "    }\n",
       "\n",
       "    .dataframe tbody tr th {\n",
       "        vertical-align: top;\n",
       "    }\n",
       "\n",
       "    .dataframe thead th {\n",
       "        text-align: right;\n",
       "    }\n",
       "</style>\n",
       "<table border=\"1\" class=\"dataframe\">\n",
       "  <thead>\n",
       "    <tr style=\"text-align: right;\">\n",
       "      <th></th>\n",
       "      <th>Open</th>\n",
       "      <th>High</th>\n",
       "      <th>Low</th>\n",
       "      <th>Close</th>\n",
       "    </tr>\n",
       "    <tr>\n",
       "      <th>Date</th>\n",
       "      <th></th>\n",
       "      <th></th>\n",
       "      <th></th>\n",
       "      <th></th>\n",
       "    </tr>\n",
       "  </thead>\n",
       "  <tbody>\n",
       "    <tr>\n",
       "      <th>1990-01-03</th>\n",
       "      <td>0.299092</td>\n",
       "      <td>0.276060</td>\n",
       "      <td>0.454852</td>\n",
       "      <td>0.241668</td>\n",
       "    </tr>\n",
       "    <tr>\n",
       "      <th>1990-01-04</th>\n",
       "      <td>0.300192</td>\n",
       "      <td>0.277045</td>\n",
       "      <td>0.456369</td>\n",
       "      <td>0.242715</td>\n",
       "    </tr>\n",
       "    <tr>\n",
       "      <th>1990-01-05</th>\n",
       "      <td>0.292726</td>\n",
       "      <td>0.270360</td>\n",
       "      <td>0.446070</td>\n",
       "      <td>0.235607</td>\n",
       "    </tr>\n",
       "    <tr>\n",
       "      <th>1990-01-08</th>\n",
       "      <td>0.264620</td>\n",
       "      <td>0.245190</td>\n",
       "      <td>0.407295</td>\n",
       "      <td>0.208848</td>\n",
       "    </tr>\n",
       "    <tr>\n",
       "      <th>1990-01-09</th>\n",
       "      <td>0.328503</td>\n",
       "      <td>0.302398</td>\n",
       "      <td>0.495427</td>\n",
       "      <td>0.269670</td>\n",
       "    </tr>\n",
       "    <tr>\n",
       "      <th>...</th>\n",
       "      <td>...</td>\n",
       "      <td>...</td>\n",
       "      <td>...</td>\n",
       "      <td>...</td>\n",
       "    </tr>\n",
       "    <tr>\n",
       "      <th>2021-11-16</th>\n",
       "      <td>0.252001</td>\n",
       "      <td>0.226256</td>\n",
       "      <td>0.372006</td>\n",
       "      <td>0.198697</td>\n",
       "    </tr>\n",
       "    <tr>\n",
       "      <th>2021-11-17</th>\n",
       "      <td>0.237767</td>\n",
       "      <td>0.244530</td>\n",
       "      <td>0.415417</td>\n",
       "      <td>0.234849</td>\n",
       "    </tr>\n",
       "    <tr>\n",
       "      <th>2021-11-18</th>\n",
       "      <td>0.279124</td>\n",
       "      <td>0.276541</td>\n",
       "      <td>0.405981</td>\n",
       "      <td>0.223034</td>\n",
       "    </tr>\n",
       "    <tr>\n",
       "      <th>2021-11-19</th>\n",
       "      <td>0.282896</td>\n",
       "      <td>0.271057</td>\n",
       "      <td>0.451646</td>\n",
       "      <td>0.216241</td>\n",
       "    </tr>\n",
       "    <tr>\n",
       "      <th>2021-11-22</th>\n",
       "      <td>0.294232</td>\n",
       "      <td>0.260125</td>\n",
       "      <td>0.406802</td>\n",
       "      <td>0.252171</td>\n",
       "    </tr>\n",
       "  </tbody>\n",
       "</table>\n",
       "<p>8036 rows × 4 columns</p>\n",
       "</div>"
      ],
      "text/plain": [
       "                Open      High       Low     Close\n",
       "Date                                              \n",
       "1990-01-03  0.299092  0.276060  0.454852  0.241668\n",
       "1990-01-04  0.300192  0.277045  0.456369  0.242715\n",
       "1990-01-05  0.292726  0.270360  0.446070  0.235607\n",
       "1990-01-08  0.264620  0.245190  0.407295  0.208848\n",
       "1990-01-09  0.328503  0.302398  0.495427  0.269670\n",
       "...              ...       ...       ...       ...\n",
       "2021-11-16  0.252001  0.226256  0.372006  0.198697\n",
       "2021-11-17  0.237767  0.244530  0.415417  0.234849\n",
       "2021-11-18  0.279124  0.276541  0.405981  0.223034\n",
       "2021-11-19  0.282896  0.271057  0.451646  0.216241\n",
       "2021-11-22  0.294232  0.260125  0.406802  0.252171\n",
       "\n",
       "[8036 rows x 4 columns]"
      ]
     },
     "execution_count": 16,
     "metadata": {},
     "output_type": "execute_result"
    }
   ],
   "source": [
    "historical_price_data_cleaned_pct_change_copy"
   ]
  },
  {
   "cell_type": "code",
   "execution_count": 17,
   "metadata": {},
   "outputs": [
    {
     "data": {
      "text/html": [
       "<div>\n",
       "<style scoped>\n",
       "    .dataframe tbody tr th:only-of-type {\n",
       "        vertical-align: middle;\n",
       "    }\n",
       "\n",
       "    .dataframe tbody tr th {\n",
       "        vertical-align: top;\n",
       "    }\n",
       "\n",
       "    .dataframe thead th {\n",
       "        text-align: right;\n",
       "    }\n",
       "</style>\n",
       "<table border=\"1\" class=\"dataframe\">\n",
       "  <thead>\n",
       "    <tr style=\"text-align: right;\">\n",
       "      <th></th>\n",
       "      <th>Open</th>\n",
       "      <th>High</th>\n",
       "      <th>Low</th>\n",
       "      <th>Close</th>\n",
       "    </tr>\n",
       "  </thead>\n",
       "  <tbody>\n",
       "    <tr>\n",
       "      <th>count</th>\n",
       "      <td>8036.000000</td>\n",
       "      <td>8036.000000</td>\n",
       "      <td>8036.000000</td>\n",
       "      <td>8036.000000</td>\n",
       "    </tr>\n",
       "    <tr>\n",
       "      <th>mean</th>\n",
       "      <td>0.261014</td>\n",
       "      <td>0.241900</td>\n",
       "      <td>0.401651</td>\n",
       "      <td>0.205300</td>\n",
       "    </tr>\n",
       "    <tr>\n",
       "      <th>std</th>\n",
       "      <td>0.052080</td>\n",
       "      <td>0.045964</td>\n",
       "      <td>0.060807</td>\n",
       "      <td>0.048182</td>\n",
       "    </tr>\n",
       "    <tr>\n",
       "      <th>min</th>\n",
       "      <td>0.000000</td>\n",
       "      <td>0.000000</td>\n",
       "      <td>0.000000</td>\n",
       "      <td>0.000000</td>\n",
       "    </tr>\n",
       "    <tr>\n",
       "      <th>25%</th>\n",
       "      <td>0.230973</td>\n",
       "      <td>0.216690</td>\n",
       "      <td>0.366743</td>\n",
       "      <td>0.178273</td>\n",
       "    </tr>\n",
       "    <tr>\n",
       "      <th>50%</th>\n",
       "      <td>0.257242</td>\n",
       "      <td>0.238603</td>\n",
       "      <td>0.396766</td>\n",
       "      <td>0.201193</td>\n",
       "    </tr>\n",
       "    <tr>\n",
       "      <th>75%</th>\n",
       "      <td>0.285321</td>\n",
       "      <td>0.261931</td>\n",
       "      <td>0.431806</td>\n",
       "      <td>0.226274</td>\n",
       "    </tr>\n",
       "    <tr>\n",
       "      <th>max</th>\n",
       "      <td>1.000000</td>\n",
       "      <td>1.000000</td>\n",
       "      <td>1.000000</td>\n",
       "      <td>1.000000</td>\n",
       "    </tr>\n",
       "  </tbody>\n",
       "</table>\n",
       "</div>"
      ],
      "text/plain": [
       "              Open         High          Low        Close\n",
       "count  8036.000000  8036.000000  8036.000000  8036.000000\n",
       "mean      0.261014     0.241900     0.401651     0.205300\n",
       "std       0.052080     0.045964     0.060807     0.048182\n",
       "min       0.000000     0.000000     0.000000     0.000000\n",
       "25%       0.230973     0.216690     0.366743     0.178273\n",
       "50%       0.257242     0.238603     0.396766     0.201193\n",
       "75%       0.285321     0.261931     0.431806     0.226274\n",
       "max       1.000000     1.000000     1.000000     1.000000"
      ]
     },
     "execution_count": 17,
     "metadata": {},
     "output_type": "execute_result"
    }
   ],
   "source": [
    "historical_price_data_cleaned_pct_change_copy.describe()"
   ]
  },
  {
   "cell_type": "markdown",
   "metadata": {},
   "source": [
    "# DONE"
   ]
  },
  {
   "cell_type": "markdown",
   "metadata": {},
   "source": []
  }
 ],
 "metadata": {
  "interpreter": {
   "hash": "bf349265d63084cbdfa8b946a89e3278a059fd5fd900a5548870e74abe5aeae5"
  },
  "kernelspec": {
   "display_name": "Python 3.9.5 64-bit ('adrinet_venv': venv)",
   "language": "python",
   "name": "python3"
  },
  "language_info": {
   "codemirror_mode": {
    "name": "ipython",
    "version": 3
   },
   "file_extension": ".py",
   "mimetype": "text/x-python",
   "name": "python",
   "nbconvert_exporter": "python",
   "pygments_lexer": "ipython3",
   "version": "3.9.5"
  },
  "orig_nbformat": 4
 },
 "nbformat": 4,
 "nbformat_minor": 2
}
